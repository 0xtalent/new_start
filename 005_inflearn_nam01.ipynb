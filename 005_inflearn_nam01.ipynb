{
 "cells": [
  {
   "cell_type": "code",
   "execution_count": 8,
   "metadata": {},
   "outputs": [
    {
     "output_type": "error",
     "ename": "SyntaxError",
     "evalue": "invalid syntax (<ipython-input-8-599450685617>, line 1)",
     "traceback": [
      "\u001b[1;36m  File \u001b[1;32m\"<ipython-input-8-599450685617>\"\u001b[1;36m, line \u001b[1;32m1\u001b[0m\n\u001b[1;33m    <a href=\"https://www.naver.com\" target=\"_blank\">네이버링크</a>\u001b[0m\n\u001b[1;37m    ^\u001b[0m\n\u001b[1;31mSyntaxError\u001b[0m\u001b[1;31m:\u001b[0m invalid syntax\n"
     ]
    }
   ],
   "source": [
    "<a href=\"https://www.naver.com\" target=\"_blank\">네이버링크</a>"
   ]
  },
  {
   "cell_type": "code",
   "execution_count": 10,
   "metadata": {},
   "outputs": [
    {
     "output_type": "error",
     "ename": "SyntaxError",
     "evalue": "invalid syntax (<ipython-input-10-d41adc7b907b>, line 1)",
     "traceback": [
      "\u001b[1;36m  File \u001b[1;32m\"<ipython-input-10-d41adc7b907b>\"\u001b[1;36m, line \u001b[1;32m1\u001b[0m\n\u001b[1;33m    <img border =\"5\" src=\"https://okky.kr/assets/okjsp_logo-467f1484e489ca1133e6320083e1fb9f.png\">\u001b[0m\n\u001b[1;37m    ^\u001b[0m\n\u001b[1;31mSyntaxError\u001b[0m\u001b[1;31m:\u001b[0m invalid syntax\n"
     ]
    }
   ],
   "source": [
    "<img border =\"5\" src=\"https://okky.kr/assets/okjsp_logo-467f1484e489ca1133e6320083e1fb9f.png\">"
   ]
  },
  {
   "cell_type": "code",
   "execution_count": 12,
   "metadata": {},
   "outputs": [
    {
     "output_type": "error",
     "ename": "SyntaxError",
     "evalue": "invalid syntax (<ipython-input-12-f1138b88af78>, line 5)",
     "traceback": [
      "\u001b[1;36m  File \u001b[1;32m\"<ipython-input-12-f1138b88af78>\"\u001b[1;36m, line \u001b[1;32m5\u001b[0m\n\u001b[1;33m    <div style=\"color:blue\">\u001b[0m\n\u001b[1;37m    ^\u001b[0m\n\u001b[1;31mSyntaxError\u001b[0m\u001b[1;31m:\u001b[0m invalid syntax\n"
     ]
    }
   ],
   "source": [
    "# 요즘 제일 많이 사용되는 태그는 div 라는 태그\n",
    "# division 한다는 개념의 화면의 레이아웃, 어떤 구도를 잡거나 구성을 할 때 제일 많이 쓰는 태그고\n",
    "# 그런 목적 외에도 어떤 html 태그의 요소들을 하나로 묶어서 전체에다 스타일을 적용한다든지 그런 요소로도 많이 사용됨\n",
    "\n",
    "<div style=\"color:blue\">\n",
    "    <p> 첫 번째 문장입니다.</p>\n",
    "    <p> 두 번째 문장입니다.</p>\n",
    "</div>"
   ]
  },
  {
   "cell_type": "code",
   "execution_count": 13,
   "metadata": {},
   "outputs": [
    {
     "output_type": "error",
     "ename": "SyntaxError",
     "evalue": "invalid syntax (<ipython-input-13-086dbef8c3dd>, line 1)",
     "traceback": [
      "\u001b[1;36m  File \u001b[1;32m\"<ipython-input-13-086dbef8c3dd>\"\u001b[1;36m, line \u001b[1;32m1\u001b[0m\n\u001b[1;33m    <table border=\"1\">\u001b[0m\n\u001b[1;37m    ^\u001b[0m\n\u001b[1;31mSyntaxError\u001b[0m\u001b[1;31m:\u001b[0m invalid syntax\n"
     ]
    }
   ],
   "source": [
    "<table border=\"1\">\n",
    "    <tr>\n",
    "        <td>컬럼1</td>\n",
    "        <td>컬럼2</td>\n",
    "    </tr>\n",
    "    <tr>\n",
    "        <td>컬럼1</td>\n",
    "        <td>컬럼2</td>\n",
    "    </tr>\n",
    "</table>"
   ]
  },
  {
   "cell_type": "code",
   "execution_count": 15,
   "metadata": {},
   "outputs": [],
   "source": [
    "# w3schools.com HTML Tutorial 참조하세요!\n",
    "# HTML Snippets 설치하세요!"
   ]
  }
 ],
 "metadata": {
  "language_info": {
   "codemirror_mode": {
    "name": "ipython",
    "version": 3
   },
   "file_extension": ".py",
   "mimetype": "text/x-python",
   "name": "python",
   "nbconvert_exporter": "python",
   "pygments_lexer": "ipython3",
   "version": "3.7.6-final"
  },
  "orig_nbformat": 2,
  "kernelspec": {
   "name": "python3",
   "display_name": "Python 3"
  }
 },
 "nbformat": 4,
 "nbformat_minor": 2
}